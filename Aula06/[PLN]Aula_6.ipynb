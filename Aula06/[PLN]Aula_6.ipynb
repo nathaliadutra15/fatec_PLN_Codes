{
  "nbformat": 4,
  "nbformat_minor": 0,
  "metadata": {
    "colab": {
      "provenance": [],
      "include_colab_link": true
    },
    "kernelspec": {
      "name": "python3",
      "display_name": "Python 3"
    },
    "language_info": {
      "name": "python"
    }
  },
  "cells": [
    {
      "cell_type": "markdown",
      "metadata": {
        "id": "view-in-github",
        "colab_type": "text"
      },
      "source": [
        "<a href=\"https://colab.research.google.com/github/nathaliadutra15/fatec_PLN_Codes/blob/master/Aula06/%5BPLN%5DAula_6.ipynb\" target=\"_parent\"><img src=\"https://colab.research.google.com/assets/colab-badge.svg\" alt=\"Open In Colab\"/></a>"
      ]
    },
    {
      "cell_type": "markdown",
      "source": [
        "# Aula 06 - Representação de Texto com Embeddings"
      ],
      "metadata": {
        "id": "j8udKF6jOv4P"
      }
    },
    {
      "cell_type": "markdown",
      "source": [
        "## Exemplo 01 - Word2Vex"
      ],
      "metadata": {
        "id": "26SHwQhjO-yY"
      }
    },
    {
      "cell_type": "code",
      "source": [
        "# importação da ferramenta de vetorização\n",
        "# modelo de vetorização foi criado pelo googloe em 2013\n",
        "from gensim.models import Word2Vec\n",
        "  # pesquisa biblioteca na documentação\n",
        "\n",
        "# texto a ser analisado\n",
        "corpus = [\n",
        "    [\"o\",\"cachorro\",\"está\",\"latindo\"],\n",
        "    [\"o\",\"gato\",\"está\",\"miando\"]\n",
        "]\n",
        "\n",
        "# realizar o treinamento das palavras\n",
        "model = Word2Vec(sentences=corpus, vector_size=40,  window=5, min_count=1,sg=1)\n",
        "  # sentences -- indicar o texto a ser analisado.\n",
        "  # window -- faixa de palavras (antes e depois) que serão analisadas\n",
        "  # vector_size -- Dimensão do vetor\n",
        "  # min_count=1\n",
        "  #sg - representa o modelo a ser utiizado\n",
        "    # 0 - CBOW: busca a palavra a partir do contexto\n",
        "    # 1 - Skip-gram: busco o contexto a partir da palavra\n",
        "\n",
        "# vetorização da palavra desejada\n",
        "vector = model.wv['cachorro']\n",
        "#print(vector)\n",
        "\n",
        "# comparação de vetores.\n",
        "similarity = model.wv.similarity('cachorro','gato')\n",
        "\n",
        "# imprimo o resultado\n",
        "print(\"\\nSimilaridade entre 'cachorro' e 'gato': \",similarity)"
      ],
      "metadata": {
        "colab": {
          "base_uri": "https://localhost:8080/"
        },
        "id": "S5o00-wVQoPv",
        "outputId": "6c7b7834-39c5-4fce-87ac-37b856ea2df6",
        "collapsed": true
      },
      "execution_count": null,
      "outputs": [
        {
          "output_type": "stream",
          "name": "stdout",
          "text": [
            "\n",
            "Similaridade entre 'cachorro' e 'gato':  0.09868057\n"
          ]
        }
      ]
    },
    {
      "cell_type": "code",
      "source": [
        "from gensim.models import Word2Vec\n",
        "\n",
        "corpus = [\n",
        "    [\"o\", \"cachorro\", \"está\", \"latindo\", \"no\", \"quintal\"],\n",
        "    [\"o\", \"gato\", \"está\", \"miando\", \"no\", \"telhado\"],\n",
        "    [\"o\", \"pássaro\", \"está\", \"voando\", \"no\", \"céu\"],\n",
        "    [\"a\", \"bola\", \"está\", \"rolando\", \"no\", \"chão\"],\n",
        "    [\"a\", \"criança\", \"está\", \"brincando\", \"com\", \"o\", \"cachorro\"],\n",
        "    [\"o\", \"gato\", \"e\", \"o\", \"rato\", \"são\", \"inimigos\"],\n",
        "    [\"a\", \"água\", \"está\", \"quente\", \"na\", \"caneca\"],\n",
        "    [\"o\", \"sol\", \"está\", \"brilhando\", \"no\", \"céu\"],\n",
        "    [\"a\", \"lua\", \"está\", \"cheia\", \"hoje\"],\n",
        "    [\"a\", \"computador\", \"está\", \"ligado\", \"na\", \"mesa\"]\n",
        "]\n",
        "\n",
        "model = Word2Vec(sentences=corpus, vector_size=100, window=5, min_count=1, sg=1)\n",
        "\n",
        "# Calculando a similaridade entre palavras\n",
        "print(f\"Similaridade entre cachorro e gato: {model.wv.similarity('cachorro', 'gato')}\")\n",
        "print(f\"Similaridade entre cachorro e bola: {model.wv.similarity('cachorro', 'bola')}\")\n",
        "print(f\"Similaridade entre céu e lua: {model.wv.similarity('céu', 'lua')}\")\n",
        "print(f\"Similaridade entre computador e mesa: {model.wv.similarity('computador', 'mesa')}\")"
      ],
      "metadata": {
        "colab": {
          "base_uri": "https://localhost:8080/"
        },
        "id": "UV-KMzpoYbew",
        "outputId": "e105d324-0113-4927-b825-13368b8ea8ad"
      },
      "execution_count": null,
      "outputs": [
        {
          "output_type": "stream",
          "name": "stdout",
          "text": [
            "Similaridade entre cachorro e gato: 0.005611084401607513\n",
            "Similaridade entre cachorro e bola: -0.09607283025979996\n",
            "Similaridade entre céu e lua: 0.04423771798610687\n",
            "Similaridade entre computador e mesa: 0.04472372308373451\n"
          ]
        }
      ]
    },
    {
      "cell_type": "markdown",
      "source": [
        "## Exemplo 2 - Glove\n",
        "\n",
        "Neste exemplo será necessário baixar o arquivo de referência do site oficial do projeto GloVe, no repositório da Stanford NLP, acessível pelo link [repositório da Stanford NLP link](https://nlp.stanford.edu/projects/glove/)\n",
        "* Na página, procure pela seção \"Pre-trained word vectors\" e escolha o conjunto Common Crawl (glove.6B). O download incluirá vários arquivos em um arquivo compactado (.zip), com opções de vetores de 50, 100, 200 e 300 dimensões.\n",
        "\n",
        "Passos para Usar o glove.6B.100d.txt\n",
        "  1. Baixe o arquivo e extraia o conteúdo;\n",
        "  2. Escolha a dimensão desejada (O glove.6B.100d.txt representa embeddings com 100 dimensões, um bom equilíbrio entre precisão e eficiência);\n",
        "  3. Para carregar o arquivo no Python usando Gensim, como no exemplo anterior, especifique o caminho para glove.6B.100d.txt após a extração.\n",
        "\n",
        "Para carregar o arquivo salvo no Google Drive no Google Colab, siga os passos abaixo:\n",
        "1. Monte o Google Drive no Colab\n",
        "2. Localize o Caminho do Arquivo\n",
        "3. Carregue o Arquivo no Python Usando o Caminho Completo\n",
        "  ```\n",
        "glove_path = '/content/drive/MyDrive/embeddings/glove.6B.100d.txt'\n",
        "```\n",
        "\n"
      ],
      "metadata": {
        "id": "qrpACbuoT0bZ"
      }
    },
    {
      "cell_type": "code",
      "source": [
        "# importação da biblioteca\n",
        "from gensim.models import KeyedVectors\n",
        "\n",
        "# indicação do caminho do arquivo\n",
        "glove_path = '/content/drive/MyDrive/[Fatec] PLN/glove.6B.100d.txt'\n",
        "\n",
        "# acesso ao modelo treinado (instanciação)\n",
        "glove_model = KeyedVectors.load_word2vec_format(glove_path, binary=False, no_header=True)\n",
        "  # glove_path - caminho do arquivo com o modelo treinado\n",
        "  # binary - Arquivo em texto (False)\n",
        "  # no_header - ignorar o cabeçalho\n",
        "\n",
        "# método para acessar a similaridade de duas palavras dentro do modelo treinado\n",
        "similaridade = glove_model.similarity('king',\"queen\")\n",
        "print(\"Similaridade entre 'king' e 'queen': \", similaridade)\n",
        "\n",
        "print('Similaridade entre \"king\" e \"queen\": ', similaridade)\n",
        "\n",
        "# método de proximidade para uma determinada palavra \"KING\"\n",
        "palavras_proximas = glove_model.most_similar('king')\n",
        "print(f\"Palavras próximas de 'king': {glove_model.most_similar('king')}\")\n",
        "print(f\"Palavras próximas de 'queen': {glove_model.most_similar('queen')}\")"
      ],
      "metadata": {
        "colab": {
          "base_uri": "https://localhost:8080/"
        },
        "collapsed": true,
        "id": "Gy2iQ4brUi1_",
        "outputId": "0862aaf0-be8d-44e6-e689-7179ee2d3f19"
      },
      "execution_count": null,
      "outputs": [
        {
          "output_type": "stream",
          "name": "stdout",
          "text": [
            "Similaridade entre 'king' e 'queen':  0.7507691\n",
            "Similaridade entre \"king\" e \"queen\":  0.7507691\n",
            "Palavras próximas de 'king': [('prince', 0.7682328820228577), ('queen', 0.7507690787315369), ('son', 0.7020888328552246), ('brother', 0.6985775232315063), ('monarch', 0.6977890729904175), ('throne', 0.6919989585876465), ('kingdom', 0.6811409592628479), ('father', 0.6802029013633728), ('emperor', 0.6712858080863953), ('ii', 0.6676074266433716)]\n",
            "Palavras próximas de 'king': [('princess', 0.7947245240211487), ('king', 0.7507690191268921), ('elizabeth', 0.7355712056159973), ('royal', 0.7065026164054871), ('lady', 0.7044796943664551), ('victoria', 0.6853758096694946), ('monarch', 0.6683257818222046), ('crown', 0.6680562496185303), ('prince', 0.6640506386756897), ('consort', 0.6570538282394409)]\n"
          ]
        }
      ]
    },
    {
      "cell_type": "markdown",
      "source": [
        "## Exemplo 3 - FastText\n",
        "\n",
        "Baixar o modelo FastText pré-treinados em português diretamente do site da Meta AI [Facebook AI](https://fasttext.cc/docs/en/crawl-vectors.html)\n",
        "1. Role para baixo até a seção \"Download pre-trained word vectors\" e procure o idioma português;\n",
        "2. O modelo em português é chamado cc.pt.300.vec (em formato de texto) ou cc.pt.300.bin (em formato binário);\n",
        "3. Clique para baixar o modelo desejado;\n",
        "4. Carregue o modelo no Google Drive."
      ],
      "metadata": {
        "id": "IK5pr1_FvCq_"
      }
    },
    {
      "cell_type": "code",
      "source": [
        "# importação das funcionalidades\n",
        "from gensim.models import fasttext\n",
        "from gensim.models import KeyedVectors\n",
        "\n",
        "# caminho do arquivo\n",
        "fasttext_path = '/content/drive/MyDrive/[Fatec] PLN/cc.pt.300.vec'\n",
        "# instanciação do objeto\n",
        "fasttext_model = KeyedVectors.load_word2vec_format(fasttext_path, binary=False)\n",
        "\n",
        "# calculo de proximidade\n",
        "similaridade = fasttext_model.similarity('gato','gatinhos')\n",
        "print(f\"Similaridade entre 'gato' e 'gatinho': {similaridade:.4f}\")\n",
        "\n",
        "# calculo das palavras mais próximas\n",
        "palavras_proximas = fasttext_model.most_similar('gato')\n",
        "print(\"Palavras mais próximas de 'gato': \")\n",
        "for palavra, score in palavras_proximas:\n",
        "  print(f\"{palavra}: {score:.4f}\")"
      ],
      "metadata": {
        "colab": {
          "base_uri": "https://localhost:8080/"
        },
        "collapsed": true,
        "id": "IKRC_kbaw_a4",
        "outputId": "829822bb-c6bb-4fb0-c2f2-009fff990c3b"
      },
      "execution_count": null,
      "outputs": [
        {
          "output_type": "stream",
          "name": "stdout",
          "text": [
            "Similaridade entre 'gato' e 'gatinho': 0.5815\n",
            "Palavras mais próximas de 'gato': \n",
            "gatinho: 0.8185\n",
            "cão: 0.7903\n",
            "cachorro: 0.7688\n",
            "gatoO: 0.7448\n",
            "felino: 0.7386\n",
            "cãozinho: 0.7356\n",
            "cachorrinho: 0.7047\n",
            "gato.O: 0.7008\n",
            "gatoe: 0.6934\n",
            "bichinho: 0.6690\n"
          ]
        }
      ]
    }
  ]
}