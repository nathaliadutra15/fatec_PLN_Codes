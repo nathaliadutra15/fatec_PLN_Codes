{
  "nbformat": 4,
  "nbformat_minor": 0,
  "metadata": {
    "colab": {
      "provenance": [],
      "include_colab_link": true
    },
    "kernelspec": {
      "name": "python3",
      "display_name": "Python 3"
    },
    "language_info": {
      "name": "python"
    }
  },
  "cells": [
    {
      "cell_type": "markdown",
      "metadata": {
        "id": "view-in-github",
        "colab_type": "text"
      },
      "source": [
        "<a href=\"https://colab.research.google.com/github/nathaliadutra15/fatec_PLN_Codes/blob/master/Aula05/%5BPLN%5DAula_5.ipynb\" target=\"_parent\"><img src=\"https://colab.research.google.com/assets/colab-badge.svg\" alt=\"Open In Colab\"/></a>"
      ]
    },
    {
      "cell_type": "markdown",
      "source": [
        "# Aula 5 - Representação de Texto"
      ],
      "metadata": {
        "id": "poakg9jijDYM"
      }
    },
    {
      "cell_type": "markdown",
      "source": [
        "## Exemplo 1 - Implementando BOW\n",
        "\n",
        "Criar uma implementação simples de BoW usando CountVectorizer do scikit-learn."
      ],
      "metadata": {
        "id": "3WHqhQT5jW-O"
      }
    },
    {
      "cell_type": "code",
      "execution_count": null,
      "metadata": {
        "colab": {
          "base_uri": "https://localhost:8080/"
        },
        "id": "K_L2PyHEilck",
        "outputId": "15878716-4fe5-435c-ab77-f21c7e9e1898"
      },
      "outputs": [
        {
          "output_type": "stream",
          "name": "stdout",
          "text": [
            "Matriz BoW:\n",
            "[[0 0 0 1 0 0 0 0 1 0 0 0 0]\n",
            " [0 0 1 1 1 0 0 0 1 0 0 0 0]\n",
            " [0 0 0 0 0 0 0 0 1 0 0 0 1]\n",
            " [1 0 0 0 0 0 1 1 0 0 0 0 0]\n",
            " [0 1 0 0 0 1 0 0 0 1 1 1 0]]\n",
            "Vocabulario: {'gato': 8, 'cachorro': 3, 'brinca': 2, 'com': 4, 'rato': 12, 'abacate': 0, 'esta': 7, 'doce': 6, 'quem': 11, 'não': 10, 'gosta': 9, 'de': 5, 'banana': 1}\n"
          ]
        }
      ],
      "source": [
        "# importação das ferramentas a serem utilizadas\n",
        "# CountVectorizer\n",
        "from sklearn.feature_extraction.text import CountVectorizer\n",
        "\n",
        "documentos = [\n",
        "    \"gato e cachorro\",\n",
        "    \"gato brinca com cachorro\",\n",
        "    \"gato e rato\",\n",
        "    \"o abacate esta doce.\",\n",
        "    \"Quem não gosta de banana\"\n",
        "]\n",
        "\n",
        "vectorizer = CountVectorizer()\n",
        "\n",
        "X = vectorizer.fit_transform(documentos)\n",
        "  # fit >> criar uma lista com cada palavra que existe no texto\n",
        "  # Transform >>> trasforma as palavra em um vetor\n",
        "\n",
        "print(\"Matriz BoW:\")\n",
        "print(X.toarray())\n",
        "\n",
        "print(f\"Vocabulario: {vectorizer.vocabulary_}\")"
      ]
    },
    {
      "cell_type": "markdown",
      "source": [
        "## Exemplo 2 - Implementando BOW junto com TF-IDF"
      ],
      "metadata": {
        "id": "Wpg6zrlwn4BN"
      }
    },
    {
      "cell_type": "code",
      "source": [
        "# Importação das ferramentas que serão utilizadas\n",
        "from sklearn.feature_extraction.text import CountVectorizer # BoW\n",
        "from sklearn.feature_extraction.text import TfidfVectorizer # TF-IDF\n",
        "  # Term Frequency - Inverse Documento Frequency\n",
        "\n",
        "documentos = [\n",
        "    \"O cachorro gosta de passear no parque\",\n",
        "    \"O gato dorme no sofá o dia todo\",\n",
        "    \"Cachorro e gato podem ser bons amigos Cachorro Cachorro\"\n",
        "]\n",
        "# VEtorização pelo BoW\n",
        "vectorizer_bow = CountVectorizer() # instancia da ferramenta\n",
        "X_bow = vectorizer_bow.fit_transform(documentos) # vetorização do texto\n",
        "\n",
        "# impressão do vetor e da matriz\n",
        "print(f\"Vocabulário BoW: {vectorizer_bow.vocabulary_}\")\n",
        "print(\"Matriz BoW:\")\n",
        "print(X_bow.toarray())\n",
        "\n",
        "# Vetorização TF-IDF\n",
        "vectorizer_tfidf = TfidfVectorizer() # Instaciação da Classe\n",
        "X_tfidf = vectorizer_tfidf.fit_transform(documentos) # vetorização\n",
        "  # fit\n",
        "  # transform\n",
        "\n",
        "# impressão dos vetores com frequencia ponderada\n",
        "print(f\"\\nVocabulário TF-IDF: {vectorizer_tfidf.vocabulary_}\")\n",
        "print(\"Matriz TF-IDF\")\n",
        "print(X_tfidf.toarray())"
      ],
      "metadata": {
        "colab": {
          "base_uri": "https://localhost:8080/"
        },
        "id": "t23f1q0sn_rd",
        "outputId": "79bd44b0-3579-438f-fe75-48d3fdc89cdc"
      },
      "execution_count": null,
      "outputs": [
        {
          "output_type": "stream",
          "name": "stdout",
          "text": [
            "Vocabulário BoW: {'cachorro': 2, 'gosta': 7, 'de': 3, 'passear': 10, 'no': 8, 'parque': 9, 'gato': 6, 'dorme': 5, 'sofá': 13, 'dia': 4, 'todo': 14, 'podem': 11, 'ser': 12, 'bons': 1, 'amigos': 0}\n",
            "Matriz BoW:\n",
            "[[0 0 1 1 0 0 0 1 1 1 1 0 0 0 0]\n",
            " [0 0 0 0 1 1 1 0 1 0 0 0 0 1 1]\n",
            " [1 1 3 0 0 0 1 0 0 0 0 1 1 0 0]]\n",
            "\n",
            "Vocabulário TF-IDF: {'cachorro': 2, 'gosta': 7, 'de': 3, 'passear': 10, 'no': 8, 'parque': 9, 'gato': 6, 'dorme': 5, 'sofá': 13, 'dia': 4, 'todo': 14, 'podem': 11, 'ser': 12, 'bons': 1, 'amigos': 0}\n",
            "Matriz TF-IDF\n",
            "[[0.         0.         0.3349067  0.44036207 0.         0.\n",
            "  0.         0.44036207 0.3349067  0.44036207 0.44036207 0.\n",
            "  0.         0.         0.        ]\n",
            " [0.         0.         0.         0.         0.44036207 0.44036207\n",
            "  0.3349067  0.         0.3349067  0.         0.         0.\n",
            "  0.         0.44036207 0.44036207]\n",
            " [0.31969946 0.31969946 0.72941903 0.         0.         0.\n",
            "  0.24313968 0.         0.         0.         0.         0.31969946\n",
            "  0.31969946 0.         0.        ]]\n"
          ]
        }
      ]
    },
    {
      "cell_type": "markdown",
      "source": [
        "## Exemplo 3 - Aula 4 e aula 5\n",
        "Construção de um exemplo de pré-processamento\n",
        "e representação de texto:\n",
        "* Limpeza de dados – removendo caracteres indesejados e normalizando o texto.\n",
        "* Tokenização – dividindo o texto em palavras individuais.\n",
        "* Remoção de stopwords – eliminando palavras comuns que não carregam significado semântico importante.\n",
        "* Lematização – reduzindo as palavras à sua forma base.\n",
        "* Representação de Texto – convertendo o texto processado em uma matriz numérica usando o modelo Bag of Words."
      ],
      "metadata": {
        "id": "hBkMbC5hvvjW"
      }
    },
    {
      "cell_type": "code",
      "source": [
        "import nltk\n",
        "import re\n",
        "from nltk.corpus import stopwords\n",
        "from nltk.tokenize import word_tokenize\n",
        "from nltk.stem import WordNetLemmatizer\n",
        "from sklearn.feature_extraction.text import CountVectorizer\n",
        "\n",
        "nltk.download('punkt')\n",
        "nltk.download('stopwords')\n",
        "nltk.download('wordnet')\n",
        "nltk.download('omw-1.4')\n",
        "\n",
        "documentos = [\n",
        "    \"Os cachorros são animais muito amigáveis e leais!\",\n",
        "    \"Eu gosto de gatos porque eles são independentes e fofos.\",\n",
        "    \"Cachorros e gatos podem ser ótimos animais de estimaçãos.\"\n",
        "]\n",
        "\n",
        "lemmatizer = WordNetLemmatizer()\n",
        "stop_words = set(stopwords.words(\"portuguese\"))\n",
        "\n",
        "def preprocessar_texto(texto):\n",
        "  texto = re.sub(r'[^a-zA-Zá-ÿ\\s]','',texto)\n",
        "  tokens_tudo = word_tokenize(texto.lower())\n",
        "  tokens = [palavra for palavra in tokens_tudo if palavra not in stop_words]\n",
        "  tokens_lema = [lemmatizer.lemmatize(palavra) for palavra in tokens]\n",
        "  return ' '.join(tokens_lema)\n",
        "\n",
        "documentos_processados = [preprocessar_texto(doc) for doc in documentos]\n",
        "\n",
        "print('documentos Pré-processados:')\n",
        "for i, doc in enumerate(documentos_processados):\n",
        "  print(f\"Documento {i + 1}: {doc}\")\n",
        "\n",
        "vectorizer = CountVectorizer()\n",
        "X_bow = vectorizer.fit_transform(documentos_processados)\n",
        "\n",
        "print(\"\\nVocabulário BoW:\", vectorizer.vocabulary_)\n",
        "print(\"Matriz BoW:\")\n",
        "print(X_bow.toarray())"
      ],
      "metadata": {
        "colab": {
          "base_uri": "https://localhost:8080/"
        },
        "id": "gY8DpAZYwMFF",
        "outputId": "987ec156-8c8f-4109-8597-53aa139d34b7"
      },
      "execution_count": null,
      "outputs": [
        {
          "output_type": "stream",
          "name": "stdout",
          "text": [
            "documentos Pré-processados:\n",
            "Documento 1: cachorros animais amigáveis leais\n",
            "Documento 2: gosto gatos porque independentes fofos\n",
            "Documento 3: cachorros gatos podem ótimos animais estimaçãos\n",
            "\n",
            "Vocabulário BoW: {'cachorros': 2, 'animais': 1, 'amigáveis': 0, 'leais': 8, 'gosto': 6, 'gatos': 5, 'porque': 10, 'independentes': 7, 'fofos': 4, 'podem': 9, 'ótimos': 11, 'estimaçãos': 3}\n",
            "Matriz BoW:\n",
            "[[1 1 1 0 0 0 0 0 1 0 0 0]\n",
            " [0 0 0 0 1 1 1 1 0 0 1 0]\n",
            " [0 1 1 1 0 1 0 0 0 1 0 1]]\n"
          ]
        },
        {
          "output_type": "stream",
          "name": "stderr",
          "text": [
            "[nltk_data] Downloading package punkt to /root/nltk_data...\n",
            "[nltk_data]   Package punkt is already up-to-date!\n",
            "[nltk_data] Downloading package stopwords to /root/nltk_data...\n",
            "[nltk_data]   Package stopwords is already up-to-date!\n",
            "[nltk_data] Downloading package wordnet to /root/nltk_data...\n",
            "[nltk_data]   Package wordnet is already up-to-date!\n",
            "[nltk_data] Downloading package omw-1.4 to /root/nltk_data...\n",
            "[nltk_data]   Package omw-1.4 is already up-to-date!\n"
          ]
        }
      ]
    },
    {
      "cell_type": "markdown",
      "source": [
        "# aula 6 - Embeding Vectors"
      ],
      "metadata": {
        "id": "ukxNliH3e2pB"
      }
    },
    {
      "cell_type": "markdown",
      "source": [],
      "metadata": {
        "id": "5fwKALFOfDxB"
      }
    },
    {
      "cell_type": "markdown",
      "source": [],
      "metadata": {
        "id": "iXFBm8bEe5C5"
      }
    },
    {
      "cell_type": "markdown",
      "source": [
        "# aula 7 - modelo de representação de textos"
      ],
      "metadata": {
        "id": "S0Kv85NFe91y"
      }
    },
    {
      "cell_type": "markdown",
      "source": [],
      "metadata": {
        "id": "-I3o5A5ofEDZ"
      }
    }
  ]
}